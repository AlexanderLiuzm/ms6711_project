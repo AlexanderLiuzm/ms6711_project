{
 "cells": [
  {
   "cell_type": "markdown",
   "metadata": {},
   "source": [
    "# Import modules"
   ]
  },
  {
   "cell_type": "code",
   "execution_count": 1,
   "metadata": {},
   "outputs": [],
   "source": [
    "import pandas as pd\n",
    "import numpy as np\n",
    "import datetime\n",
    "from datetime import datetime"
   ]
  },
  {
   "cell_type": "markdown",
   "metadata": {},
   "source": [
    "------\n",
    "# Filter useful dataset"
   ]
  },
  {
   "cell_type": "markdown",
   "metadata": {},
   "source": [
    "## Read data sets"
   ]
  },
  {
   "cell_type": "code",
   "execution_count": 2,
   "metadata": {},
   "outputs": [],
   "source": [
    "TRANSACTION = pd.read_csv(\"../data/raw/TRANSACTION_02_08.csv\")"
   ]
  },
  {
   "cell_type": "markdown",
   "metadata": {},
   "source": [
    "## Build `useful` filter index\n",
    "\n",
    "- `useful` means that only customers who have transaction records in history would have chance to turn away. "
   ]
  },
  {
   "cell_type": "code",
   "execution_count": 3,
   "metadata": {},
   "outputs": [],
   "source": [
    "useful_filter_id = TRANSACTION[[\"msno\"]].copy()"
   ]
  },
  {
   "cell_type": "code",
   "execution_count": 4,
   "metadata": {},
   "outputs": [],
   "source": [
    "useful_filter_id = pd.DataFrame(data=pd.unique(useful_filter_id[\"msno\"]))"
   ]
  },
  {
   "cell_type": "code",
   "execution_count": 5,
   "metadata": {},
   "outputs": [
    {
     "data": {
      "text/html": [
       "<div>\n",
       "<style scoped>\n",
       "    .dataframe tbody tr th:only-of-type {\n",
       "        vertical-align: middle;\n",
       "    }\n",
       "\n",
       "    .dataframe tbody tr th {\n",
       "        vertical-align: top;\n",
       "    }\n",
       "\n",
       "    .dataframe thead th {\n",
       "        text-align: right;\n",
       "    }\n",
       "</style>\n",
       "<table border=\"1\" class=\"dataframe\">\n",
       "  <thead>\n",
       "    <tr style=\"text-align: right;\">\n",
       "      <th></th>\n",
       "      <th>msno</th>\n",
       "    </tr>\n",
       "  </thead>\n",
       "  <tbody>\n",
       "    <tr>\n",
       "      <th>0</th>\n",
       "      <td>+++FOrTS7ab3tIgIh8eWwX4FqRv8w/FoiOuyXsFvphY=</td>\n",
       "    </tr>\n",
       "    <tr>\n",
       "      <th>1</th>\n",
       "      <td>+++IZseRRiQS9aaSkH6cMYU6bGDcxUieAi/tH67sC5s=</td>\n",
       "    </tr>\n",
       "    <tr>\n",
       "      <th>2</th>\n",
       "      <td>+++hVY1rZox/33YtvDgmKA2Frg/2qhkz12B9ylCvh8o=</td>\n",
       "    </tr>\n",
       "    <tr>\n",
       "      <th>3</th>\n",
       "      <td>+++l/EXNMLTijfLBa8p2TUVVVp2aFGSuUI/h7mLmthw=</td>\n",
       "    </tr>\n",
       "    <tr>\n",
       "      <th>4</th>\n",
       "      <td>+++snpr7pmobhLKUgSHTv/mpkqgBT0tQJ0zQj6qKrqc=</td>\n",
       "    </tr>\n",
       "  </tbody>\n",
       "</table>\n",
       "</div>"
      ],
      "text/plain": [
       "                                           msno\n",
       "0  +++FOrTS7ab3tIgIh8eWwX4FqRv8w/FoiOuyXsFvphY=\n",
       "1  +++IZseRRiQS9aaSkH6cMYU6bGDcxUieAi/tH67sC5s=\n",
       "2  +++hVY1rZox/33YtvDgmKA2Frg/2qhkz12B9ylCvh8o=\n",
       "3  +++l/EXNMLTijfLBa8p2TUVVVp2aFGSuUI/h7mLmthw=\n",
       "4  +++snpr7pmobhLKUgSHTv/mpkqgBT0tQJ0zQj6qKrqc="
      ]
     },
     "execution_count": 5,
     "metadata": {},
     "output_type": "execute_result"
    }
   ],
   "source": [
    "useful_filter_id.columns = ['msno']\n",
    "useful_filter_id.head()"
   ]
  },
  {
   "cell_type": "markdown",
   "metadata": {},
   "source": [
    "## Filter MEMBERS data set"
   ]
  },
  {
   "cell_type": "code",
   "execution_count": 21,
   "metadata": {},
   "outputs": [],
   "source": [
    "MEMBERS = pd.read_csv(\"../data/raw/MEMBERS.csv\")"
   ]
  },
  {
   "cell_type": "code",
   "execution_count": 22,
   "metadata": {},
   "outputs": [
    {
     "data": {
      "text/html": [
       "<div>\n",
       "<style scoped>\n",
       "    .dataframe tbody tr th:only-of-type {\n",
       "        vertical-align: middle;\n",
       "    }\n",
       "\n",
       "    .dataframe tbody tr th {\n",
       "        vertical-align: top;\n",
       "    }\n",
       "\n",
       "    .dataframe thead th {\n",
       "        text-align: right;\n",
       "    }\n",
       "</style>\n",
       "<table border=\"1\" class=\"dataframe\">\n",
       "  <thead>\n",
       "    <tr style=\"text-align: right;\">\n",
       "      <th></th>\n",
       "      <th>msno</th>\n",
       "      <th>registration_init_time</th>\n",
       "      <th>city</th>\n",
       "      <th>bd</th>\n",
       "      <th>gender</th>\n",
       "      <th>registered_via</th>\n",
       "    </tr>\n",
       "  </thead>\n",
       "  <tbody>\n",
       "    <tr>\n",
       "      <th>0</th>\n",
       "      <td>Rb9UwLQTrxzBVwCB6+bCcSQWZ9JiNLC9dXtM1oEsZA8=</td>\n",
       "      <td>2011-09-11</td>\n",
       "      <td>1</td>\n",
       "      <td>0</td>\n",
       "      <td>NaN</td>\n",
       "      <td>11</td>\n",
       "    </tr>\n",
       "    <tr>\n",
       "      <th>1</th>\n",
       "      <td>+tJonkh+O1CA796Fm5X60UMOtB6POHAwPjbTRVl/EuU=</td>\n",
       "      <td>2011-09-14</td>\n",
       "      <td>1</td>\n",
       "      <td>0</td>\n",
       "      <td>NaN</td>\n",
       "      <td>7</td>\n",
       "    </tr>\n",
       "    <tr>\n",
       "      <th>2</th>\n",
       "      <td>cV358ssn7a0f7jZOwGNWS07wCKVqxyiImJUX6xcIwKw=</td>\n",
       "      <td>2011-09-15</td>\n",
       "      <td>1</td>\n",
       "      <td>0</td>\n",
       "      <td>NaN</td>\n",
       "      <td>11</td>\n",
       "    </tr>\n",
       "    <tr>\n",
       "      <th>3</th>\n",
       "      <td>9bzDeJP6sQodK73K5CBlJ6fgIQzPeLnRl0p5B77XP+g=</td>\n",
       "      <td>2011-09-15</td>\n",
       "      <td>1</td>\n",
       "      <td>0</td>\n",
       "      <td>NaN</td>\n",
       "      <td>11</td>\n",
       "    </tr>\n",
       "    <tr>\n",
       "      <th>4</th>\n",
       "      <td>WFLY3s7z4EZsieHCt63XrsdtfTEmJ+2PnnKLH5GY4Tk=</td>\n",
       "      <td>2011-09-15</td>\n",
       "      <td>6</td>\n",
       "      <td>32</td>\n",
       "      <td>female</td>\n",
       "      <td>9</td>\n",
       "    </tr>\n",
       "  </tbody>\n",
       "</table>\n",
       "</div>"
      ],
      "text/plain": [
       "                                           msno registration_init_time  city  \\\n",
       "0  Rb9UwLQTrxzBVwCB6+bCcSQWZ9JiNLC9dXtM1oEsZA8=             2011-09-11     1   \n",
       "1  +tJonkh+O1CA796Fm5X60UMOtB6POHAwPjbTRVl/EuU=             2011-09-14     1   \n",
       "2  cV358ssn7a0f7jZOwGNWS07wCKVqxyiImJUX6xcIwKw=             2011-09-15     1   \n",
       "3  9bzDeJP6sQodK73K5CBlJ6fgIQzPeLnRl0p5B77XP+g=             2011-09-15     1   \n",
       "4  WFLY3s7z4EZsieHCt63XrsdtfTEmJ+2PnnKLH5GY4Tk=             2011-09-15     6   \n",
       "\n",
       "   bd  gender  registered_via  \n",
       "0   0     NaN              11  \n",
       "1   0     NaN               7  \n",
       "2   0     NaN              11  \n",
       "3   0     NaN              11  \n",
       "4  32  female               9  "
      ]
     },
     "execution_count": 22,
     "metadata": {},
     "output_type": "execute_result"
    }
   ],
   "source": [
    "MEMBERS.head()"
   ]
  },
  {
   "cell_type": "code",
   "execution_count": 23,
   "metadata": {},
   "outputs": [],
   "source": [
    "MEMBERS_USEFUL = pd.merge(left=useful_filter_id, right=MEMBERS, on=\"msno\", how=\"left\")"
   ]
  },
  {
   "cell_type": "code",
   "execution_count": 24,
   "metadata": {},
   "outputs": [],
   "source": [
    "del MEMBERS # save memory"
   ]
  },
  {
   "cell_type": "markdown",
   "metadata": {},
   "source": [
    "### Output processed useful MEMBERS data set"
   ]
  },
  {
   "cell_type": "code",
   "execution_count": 25,
   "metadata": {},
   "outputs": [],
   "source": [
    "MEMBERS_USEFUL.to_csv(\"../data/processed/MEMBERS_USEFUL.csv\", index=False)"
   ]
  },
  {
   "cell_type": "markdown",
   "metadata": {},
   "source": [
    "## Filter USER_LOGS dataset"
   ]
  },
  {
   "cell_type": "code",
   "execution_count": 33,
   "metadata": {},
   "outputs": [],
   "source": [
    "UER_LOGS = pd.read_csv(\"../data/raw/USER_LOG_TRAIN.csv\")"
   ]
  },
  {
   "cell_type": "code",
   "execution_count": 34,
   "metadata": {},
   "outputs": [
    {
     "name": "stdout",
     "output_type": "stream",
     "text": [
      "<class 'pandas.core.frame.DataFrame'>\n",
      "RangeIndex: 112957255 entries, 0 to 112957254\n",
      "Data columns (total 9 columns):\n",
      "msno          object\n",
      "date          object\n",
      "num_25        float64\n",
      "num_50        float64\n",
      "num_75        int64\n",
      "num_985       int64\n",
      "num_100       int64\n",
      "num_unq       int64\n",
      "total_secs    float64\n",
      "dtypes: float64(3), int64(4), object(2)\n",
      "memory usage: 7.6+ GB\n"
     ]
    }
   ],
   "source": [
    "UER_LOGS.info()"
   ]
  },
  {
   "cell_type": "markdown",
   "metadata": {},
   "source": [
    "### Convert `date` column to datetime object"
   ]
  },
  {
   "cell_type": "code",
   "execution_count": 35,
   "metadata": {},
   "outputs": [],
   "source": [
    "UER_LOGS = UER_LOGS.dropna()"
   ]
  },
  {
   "cell_type": "code",
   "execution_count": 36,
   "metadata": {},
   "outputs": [],
   "source": [
    "UER_LOGS[\"date\"] = UER_LOGS[\"date\"].astype(\"str\")"
   ]
  },
  {
   "cell_type": "code",
   "execution_count": 37,
   "metadata": {},
   "outputs": [],
   "source": [
    "UER_LOGS['date'] = UER_LOGS['date'].map(lambda x: datetime(int(x[:4]), int(x[5:7]), int(x[8:])))"
   ]
  },
  {
   "cell_type": "code",
   "execution_count": 38,
   "metadata": {},
   "outputs": [
    {
     "data": {
      "text/plain": [
       "112957250   2017-02-23\n",
       "112957251   2017-02-26\n",
       "112957252   2017-02-26\n",
       "112957253   2017-02-27\n",
       "112957254   2017-02-28\n",
       "Name: date, dtype: datetime64[ns]"
      ]
     },
     "execution_count": 38,
     "metadata": {},
     "output_type": "execute_result"
    }
   ],
   "source": [
    "UER_LOGS[\"date\"].tail()"
   ]
  },
  {
   "cell_type": "markdown",
   "metadata": {},
   "source": [
    "###  Filter last 3 month user logs data"
   ]
  },
  {
   "cell_type": "code",
   "execution_count": 39,
   "metadata": {},
   "outputs": [],
   "source": [
    "USER_LOGS_4M = UER_LOGS[UER_LOGS[\"date\"] > datetime(year=2016, month=10, day=31)]"
   ]
  },
  {
   "cell_type": "code",
   "execution_count": 40,
   "metadata": {},
   "outputs": [
    {
     "name": "stdout",
     "output_type": "stream",
     "text": [
      "<class 'pandas.core.frame.DataFrame'>\n",
      "Int64Index: 51518675 entries, 2 to 112957254\n",
      "Data columns (total 9 columns):\n",
      "msno          object\n",
      "date          datetime64[ns]\n",
      "num_25        float64\n",
      "num_50        float64\n",
      "num_75        int64\n",
      "num_985       int64\n",
      "num_100       int64\n",
      "num_unq       int64\n",
      "total_secs    float64\n",
      "dtypes: datetime64[ns](1), float64(3), int64(4), object(1)\n",
      "memory usage: 3.8+ GB\n"
     ]
    }
   ],
   "source": [
    "USER_LOGS_3M.info()"
   ]
  },
  {
   "cell_type": "code",
   "execution_count": 41,
   "metadata": {},
   "outputs": [],
   "source": [
    "del UER_LOGS # save memory"
   ]
  },
  {
   "cell_type": "code",
   "execution_count": 42,
   "metadata": {},
   "outputs": [],
   "source": [
    "UER_LOGS_USEFUL = pd.merge(left=useful_filter_id, right=USER_LOGS_4M, on=\"msno\", how=\"left\")"
   ]
  },
  {
   "cell_type": "code",
   "execution_count": 43,
   "metadata": {},
   "outputs": [],
   "source": [
    "del USER_LOGS_4M"
   ]
  },
  {
   "cell_type": "markdown",
   "metadata": {},
   "source": [
    "### Output processed useful USER_LOGS data set"
   ]
  },
  {
   "cell_type": "code",
   "execution_count": 44,
   "metadata": {},
   "outputs": [],
   "source": [
    "UER_LOGS_USEFUL.to_csv(\"../data/processed/USER_LOGS_USEFUL.csv\", index=False)"
   ]
  },
  {
   "cell_type": "markdown",
   "metadata": {},
   "source": [
    "------\n",
    "## Filter predicting data set"
   ]
  },
  {
   "cell_type": "markdown",
   "metadata": {},
   "source": [
    "### Build predicting filter index"
   ]
  },
  {
   "cell_type": "code",
   "execution_count": 6,
   "metadata": {},
   "outputs": [],
   "source": [
    "TRANSACTION[\"Exp_Year\"] = TRANSACTION[\"membership_expire_date\"].map(lambda x: int(x[:4]))\n",
    "TRANSACTION[\"Exp_Month\"] = TRANSACTION[\"membership_expire_date\"].map(lambda x: int(x[5:7]))"
   ]
  },
  {
   "cell_type": "code",
   "execution_count": 7,
   "metadata": {},
   "outputs": [],
   "source": [
    "pred_index = ((TRANSACTION[\"Exp_Year\"] == 2017)&\n",
    "              (TRANSACTION[\"Exp_Month\"] == 2)\n",
    "             )"
   ]
  },
  {
   "cell_type": "code",
   "execution_count": 8,
   "metadata": {},
   "outputs": [],
   "source": [
    "pred_filter_id = TRANSACTION[[\"msno\"]][pred_index].copy()"
   ]
  },
  {
   "cell_type": "code",
   "execution_count": 9,
   "metadata": {},
   "outputs": [],
   "source": [
    "pred_filter_id = pd.DataFrame(data=pd.unique(pred_filter_id[\"msno\"]))"
   ]
  },
  {
   "cell_type": "code",
   "execution_count": 10,
   "metadata": {},
   "outputs": [
    {
     "data": {
      "text/html": [
       "<div>\n",
       "<style scoped>\n",
       "    .dataframe tbody tr th:only-of-type {\n",
       "        vertical-align: middle;\n",
       "    }\n",
       "\n",
       "    .dataframe tbody tr th {\n",
       "        vertical-align: top;\n",
       "    }\n",
       "\n",
       "    .dataframe thead th {\n",
       "        text-align: right;\n",
       "    }\n",
       "</style>\n",
       "<table border=\"1\" class=\"dataframe\">\n",
       "  <thead>\n",
       "    <tr style=\"text-align: right;\">\n",
       "      <th></th>\n",
       "      <th>msno</th>\n",
       "    </tr>\n",
       "  </thead>\n",
       "  <tbody>\n",
       "    <tr>\n",
       "      <th>0</th>\n",
       "      <td>+++hVY1rZox/33YtvDgmKA2Frg/2qhkz12B9ylCvh8o=</td>\n",
       "    </tr>\n",
       "    <tr>\n",
       "      <th>1</th>\n",
       "      <td>+++l/EXNMLTijfLBa8p2TUVVVp2aFGSuUI/h7mLmthw=</td>\n",
       "    </tr>\n",
       "    <tr>\n",
       "      <th>2</th>\n",
       "      <td>+++snpr7pmobhLKUgSHTv/mpkqgBT0tQJ0zQj6qKrqc=</td>\n",
       "    </tr>\n",
       "    <tr>\n",
       "      <th>3</th>\n",
       "      <td>++/9R3sX37CjxbY/AaGvbwr3QkwElKBCtSvVzhCBDOk=</td>\n",
       "    </tr>\n",
       "    <tr>\n",
       "      <th>4</th>\n",
       "      <td>++/UDNo9DLrxT8QVGiDi1OnWfczAdEwThaVyD0fXO50=</td>\n",
       "    </tr>\n",
       "  </tbody>\n",
       "</table>\n",
       "</div>"
      ],
      "text/plain": [
       "                                           msno\n",
       "0  +++hVY1rZox/33YtvDgmKA2Frg/2qhkz12B9ylCvh8o=\n",
       "1  +++l/EXNMLTijfLBa8p2TUVVVp2aFGSuUI/h7mLmthw=\n",
       "2  +++snpr7pmobhLKUgSHTv/mpkqgBT0tQJ0zQj6qKrqc=\n",
       "3  ++/9R3sX37CjxbY/AaGvbwr3QkwElKBCtSvVzhCBDOk=\n",
       "4  ++/UDNo9DLrxT8QVGiDi1OnWfczAdEwThaVyD0fXO50="
      ]
     },
     "execution_count": 10,
     "metadata": {},
     "output_type": "execute_result"
    }
   ],
   "source": [
    "pred_filter_id.columns = ['msno']\n",
    "pred_filter_id.head()"
   ]
  },
  {
   "cell_type": "markdown",
   "metadata": {},
   "source": [
    "### Filter transactions of membership which expired in Feb"
   ]
  },
  {
   "cell_type": "code",
   "execution_count": 11,
   "metadata": {},
   "outputs": [],
   "source": [
    "TRANSACTION_PRED = pd.merge(left=pred_filter_id, right=TRANSACTION, on=\"msno\", how=\"left\")"
   ]
  },
  {
   "cell_type": "code",
   "execution_count": 12,
   "metadata": {},
   "outputs": [],
   "source": [
    "TRANSACTION_PRED.to_csv(\"../data/processed/TRANSACTION_PRED.csv\", index=False)"
   ]
  },
  {
   "cell_type": "code",
   "execution_count": 13,
   "metadata": {},
   "outputs": [],
   "source": [
    "del TRANSACTION_PRED"
   ]
  },
  {
   "cell_type": "markdown",
   "metadata": {},
   "source": [
    "### Filter customers whose membership expired in Feb and not pay for next period yet"
   ]
  },
  {
   "cell_type": "code",
   "execution_count": 26,
   "metadata": {},
   "outputs": [],
   "source": [
    "MEMBERS_PRED = pd.merge(left=pred_filter_id, right=MEMBERS_USEFUL, on=\"msno\", how=\"left\")"
   ]
  },
  {
   "cell_type": "code",
   "execution_count": 27,
   "metadata": {
    "scrolled": true
   },
   "outputs": [
    {
     "data": {
      "text/html": [
       "<div>\n",
       "<style scoped>\n",
       "    .dataframe tbody tr th:only-of-type {\n",
       "        vertical-align: middle;\n",
       "    }\n",
       "\n",
       "    .dataframe tbody tr th {\n",
       "        vertical-align: top;\n",
       "    }\n",
       "\n",
       "    .dataframe thead th {\n",
       "        text-align: right;\n",
       "    }\n",
       "</style>\n",
       "<table border=\"1\" class=\"dataframe\">\n",
       "  <thead>\n",
       "    <tr style=\"text-align: right;\">\n",
       "      <th></th>\n",
       "      <th>msno</th>\n",
       "      <th>registration_init_time</th>\n",
       "      <th>city</th>\n",
       "      <th>bd</th>\n",
       "      <th>gender</th>\n",
       "      <th>registered_via</th>\n",
       "    </tr>\n",
       "  </thead>\n",
       "  <tbody>\n",
       "    <tr>\n",
       "      <th>0</th>\n",
       "      <td>+++hVY1rZox/33YtvDgmKA2Frg/2qhkz12B9ylCvh8o=</td>\n",
       "      <td>2014-06-08</td>\n",
       "      <td>1.0</td>\n",
       "      <td>0.0</td>\n",
       "      <td>NaN</td>\n",
       "      <td>7.0</td>\n",
       "    </tr>\n",
       "    <tr>\n",
       "      <th>1</th>\n",
       "      <td>+++l/EXNMLTijfLBa8p2TUVVVp2aFGSuUI/h7mLmthw=</td>\n",
       "      <td>2010-11-18</td>\n",
       "      <td>15.0</td>\n",
       "      <td>26.0</td>\n",
       "      <td>male</td>\n",
       "      <td>9.0</td>\n",
       "    </tr>\n",
       "    <tr>\n",
       "      <th>2</th>\n",
       "      <td>+++snpr7pmobhLKUgSHTv/mpkqgBT0tQJ0zQj6qKrqc=</td>\n",
       "      <td>2014-09-27</td>\n",
       "      <td>1.0</td>\n",
       "      <td>0.0</td>\n",
       "      <td>NaN</td>\n",
       "      <td>7.0</td>\n",
       "    </tr>\n",
       "    <tr>\n",
       "      <th>3</th>\n",
       "      <td>++/9R3sX37CjxbY/AaGvbwr3QkwElKBCtSvVzhCBDOk=</td>\n",
       "      <td>2016-03-15</td>\n",
       "      <td>18.0</td>\n",
       "      <td>21.0</td>\n",
       "      <td>male</td>\n",
       "      <td>7.0</td>\n",
       "    </tr>\n",
       "    <tr>\n",
       "      <th>4</th>\n",
       "      <td>++/UDNo9DLrxT8QVGiDi1OnWfczAdEwThaVyD0fXO50=</td>\n",
       "      <td>2012-01-22</td>\n",
       "      <td>22.0</td>\n",
       "      <td>32.0</td>\n",
       "      <td>male</td>\n",
       "      <td>9.0</td>\n",
       "    </tr>\n",
       "  </tbody>\n",
       "</table>\n",
       "</div>"
      ],
      "text/plain": [
       "                                           msno registration_init_time  city  \\\n",
       "0  +++hVY1rZox/33YtvDgmKA2Frg/2qhkz12B9ylCvh8o=             2014-06-08   1.0   \n",
       "1  +++l/EXNMLTijfLBa8p2TUVVVp2aFGSuUI/h7mLmthw=             2010-11-18  15.0   \n",
       "2  +++snpr7pmobhLKUgSHTv/mpkqgBT0tQJ0zQj6qKrqc=             2014-09-27   1.0   \n",
       "3  ++/9R3sX37CjxbY/AaGvbwr3QkwElKBCtSvVzhCBDOk=             2016-03-15  18.0   \n",
       "4  ++/UDNo9DLrxT8QVGiDi1OnWfczAdEwThaVyD0fXO50=             2012-01-22  22.0   \n",
       "\n",
       "     bd gender  registered_via  \n",
       "0   0.0    NaN             7.0  \n",
       "1  26.0   male             9.0  \n",
       "2   0.0    NaN             7.0  \n",
       "3  21.0   male             7.0  \n",
       "4  32.0   male             9.0  "
      ]
     },
     "execution_count": 27,
     "metadata": {},
     "output_type": "execute_result"
    }
   ],
   "source": [
    "MEMBERS_PRED.head()"
   ]
  },
  {
   "cell_type": "code",
   "execution_count": 28,
   "metadata": {},
   "outputs": [],
   "source": [
    "MEMBERS_PRED.to_csv(\"../data/processed/MEMBERS_PRED.csv\", index=False)"
   ]
  },
  {
   "cell_type": "code",
   "execution_count": 29,
   "metadata": {},
   "outputs": [],
   "source": [
    "del MEMBERS_PRED"
   ]
  },
  {
   "cell_type": "markdown",
   "metadata": {},
   "source": [
    "### Filter those customers' listing music history"
   ]
  },
  {
   "cell_type": "code",
   "execution_count": 45,
   "metadata": {},
   "outputs": [],
   "source": [
    "UER_LOGS_PRED = UER_LOGS_USEFUL[UER_LOGS_USEFUL[\"date\"] > datetime(year=2016, month=11, day=30)]"
   ]
  },
  {
   "cell_type": "code",
   "execution_count": 46,
   "metadata": {},
   "outputs": [],
   "source": [
    "UER_LOGS_PRED.to_csv(\"../data/processed/USER_LOGS_PRED.csv\", index=False)"
   ]
  },
  {
   "cell_type": "code",
   "execution_count": 47,
   "metadata": {},
   "outputs": [],
   "source": [
    "del UER_LOGS_PRED"
   ]
  },
  {
   "cell_type": "markdown",
   "metadata": {},
   "source": [
    "------\n",
    "## Filter training data set"
   ]
  },
  {
   "cell_type": "code",
   "execution_count": 14,
   "metadata": {},
   "outputs": [],
   "source": [
    "STATUS = pd.read_csv(\"../data/raw/STATUS_02.csv\")"
   ]
  },
  {
   "cell_type": "code",
   "execution_count": 15,
   "metadata": {},
   "outputs": [],
   "source": [
    "train_filter_id = STATUS[[\"msno\"]].copy()"
   ]
  },
  {
   "cell_type": "code",
   "execution_count": 16,
   "metadata": {},
   "outputs": [],
   "source": [
    "train_filter_id = pd.DataFrame(data=pd.unique(train_filter_id[\"msno\"]))"
   ]
  },
  {
   "cell_type": "code",
   "execution_count": 17,
   "metadata": {},
   "outputs": [
    {
     "data": {
      "text/html": [
       "<div>\n",
       "<style scoped>\n",
       "    .dataframe tbody tr th:only-of-type {\n",
       "        vertical-align: middle;\n",
       "    }\n",
       "\n",
       "    .dataframe tbody tr th {\n",
       "        vertical-align: top;\n",
       "    }\n",
       "\n",
       "    .dataframe thead th {\n",
       "        text-align: right;\n",
       "    }\n",
       "</style>\n",
       "<table border=\"1\" class=\"dataframe\">\n",
       "  <thead>\n",
       "    <tr style=\"text-align: right;\">\n",
       "      <th></th>\n",
       "      <th>msno</th>\n",
       "    </tr>\n",
       "  </thead>\n",
       "  <tbody>\n",
       "    <tr>\n",
       "      <th>0</th>\n",
       "      <td>++9l7+WGOZ96gNp0TDXxHAydOlXYE0CiuqWFTxA6zZI=</td>\n",
       "    </tr>\n",
       "    <tr>\n",
       "      <th>1</th>\n",
       "      <td>++AH7m/EQ4iKe6wSlfO/xXAJx50p+fCeTyF90GoE9Pg=</td>\n",
       "    </tr>\n",
       "    <tr>\n",
       "      <th>2</th>\n",
       "      <td>++FNH/2Fg+6/Q+61X5t3PTVvNsFC699bnEVaVN6HT+o=</td>\n",
       "    </tr>\n",
       "    <tr>\n",
       "      <th>3</th>\n",
       "      <td>++L3Kr4/CtPSdU9BrsaX/E9ziEKoD9yK5vwk8DVXmHo=</td>\n",
       "    </tr>\n",
       "    <tr>\n",
       "      <th>4</th>\n",
       "      <td>++UEvwqAY2F9VpiLLHeicRU4D6FzbSDiaDrFkPrhqq8=</td>\n",
       "    </tr>\n",
       "  </tbody>\n",
       "</table>\n",
       "</div>"
      ],
      "text/plain": [
       "                                           msno\n",
       "0  ++9l7+WGOZ96gNp0TDXxHAydOlXYE0CiuqWFTxA6zZI=\n",
       "1  ++AH7m/EQ4iKe6wSlfO/xXAJx50p+fCeTyF90GoE9Pg=\n",
       "2  ++FNH/2Fg+6/Q+61X5t3PTVvNsFC699bnEVaVN6HT+o=\n",
       "3  ++L3Kr4/CtPSdU9BrsaX/E9ziEKoD9yK5vwk8DVXmHo=\n",
       "4  ++UEvwqAY2F9VpiLLHeicRU4D6FzbSDiaDrFkPrhqq8="
      ]
     },
     "execution_count": 17,
     "metadata": {},
     "output_type": "execute_result"
    }
   ],
   "source": [
    "train_filter_id.columns = ['msno']\n",
    "train_filter_id.head()"
   ]
  },
  {
   "cell_type": "code",
   "execution_count": 18,
   "metadata": {},
   "outputs": [],
   "source": [
    "TRANSACTION_TRAIN = pd.merge(left=train_filter_id, right=TRANSACTION, on=\"msno\", how=\"left\")"
   ]
  },
  {
   "cell_type": "code",
   "execution_count": null,
   "metadata": {},
   "outputs": [],
   "source": [
    "TRANSACTION_TRAIN = TRANSACTION_TRAIN[TRANSACTION_TRAIN[\"transaction_date\"] < datetime(2017, 2, 1)]"
   ]
  },
  {
   "cell_type": "code",
   "execution_count": 19,
   "metadata": {},
   "outputs": [],
   "source": [
    "TRANSACTION_TRAIN.to_csv(\"../data/processed/TRANSACTION_TRAIN.csv\", index=False)"
   ]
  },
  {
   "cell_type": "code",
   "execution_count": 20,
   "metadata": {},
   "outputs": [],
   "source": [
    "del TRANSACTION\n",
    "del TRANSACTION_TRAIN"
   ]
  },
  {
   "cell_type": "code",
   "execution_count": 30,
   "metadata": {},
   "outputs": [],
   "source": [
    "MEMBERS_TRAIN = pd.merge(left=train_filter_id, right=MEMBERS_USEFUL, on=\"msno\", how=\"left\")"
   ]
  },
  {
   "cell_type": "code",
   "execution_count": 31,
   "metadata": {},
   "outputs": [],
   "source": [
    "MEMBERS_TRAIN.to_csv(\"../data/processed/MEMBERS_TRAIN.csv\", index=False)"
   ]
  },
  {
   "cell_type": "code",
   "execution_count": 32,
   "metadata": {},
   "outputs": [],
   "source": [
    "del MEMBERS_USEFUL\n",
    "del MEMBERS_TRAIN"
   ]
  },
  {
   "cell_type": "code",
   "execution_count": 48,
   "metadata": {},
   "outputs": [],
   "source": [
    "UER_LOGS_TRAIN = UER_LOGS_USEFUL[UER_LOGS_USEFUL[\"date\"] < datetime(year=2017, month=2, day=1)]"
   ]
  },
  {
   "cell_type": "code",
   "execution_count": 49,
   "metadata": {},
   "outputs": [],
   "source": [
    "UER_LOGS_TRAIN.to_csv(\"../data/processed/USER_LOGS_TRAIN.csv\", index=False)"
   ]
  },
  {
   "cell_type": "code",
   "execution_count": 50,
   "metadata": {},
   "outputs": [],
   "source": [
    "del UER_LOGS_USEFUL\n",
    "del UER_LOGS_TRAIN"
   ]
  }
 ],
 "metadata": {
  "kernelspec": {
   "display_name": "Python 3",
   "language": "python",
   "name": "python3"
  },
  "language_info": {
   "codemirror_mode": {
    "name": "ipython",
    "version": 3
   },
   "file_extension": ".py",
   "mimetype": "text/x-python",
   "name": "python",
   "nbconvert_exporter": "python",
   "pygments_lexer": "ipython3",
   "version": "3.6.4"
  }
 },
 "nbformat": 4,
 "nbformat_minor": 2
}

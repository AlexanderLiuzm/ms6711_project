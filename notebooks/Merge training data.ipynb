{
 "cells": [
  {
   "cell_type": "markdown",
   "metadata": {},
   "source": [
    "# Merge all data to get training data set"
   ]
  },
  {
   "cell_type": "code",
   "execution_count": 1,
   "metadata": {},
   "outputs": [],
   "source": [
    "import pandas as pd\n",
    "import numpy as np"
   ]
  },
  {
   "cell_type": "code",
   "execution_count": 2,
   "metadata": {},
   "outputs": [],
   "source": [
    "MEMBERS = pd.read_csv(\"../data/processed/MEMBERS_TRAIN_featured.csv\")\n",
    "TRANSACTION = pd.read_csv(\"../data/processed/TRANSACTION_TRAIN_featured.csv\")\n",
    "USER_LOGS_SUM = pd.read_csv(\"../data/processed/USER_LOGS_SUM_TRAIN_featured.csv\")\n",
    "STATUS = pd.read_csv(\"../data/processed/STATUS_TRAIN.csv\")"
   ]
  },
  {
   "cell_type": "code",
   "execution_count": 3,
   "metadata": {},
   "outputs": [
    {
     "data": {
      "text/plain": [
       "Index(['msno', 'bd', 'gender', 'info_complete', 'reg_Year',\n",
       "       'registration_duration', 'city_1.0', 'city_4.0', 'city_5.0',\n",
       "       'city_13.0', 'city_15.0', 'city_22.0', 'regVia_3.0', 'regVia_4.0',\n",
       "       'regVia_7.0', 'regVia_9.0', 'actual_amount_paid', 'membership_duration',\n",
       "       'reg_mem_duration', 'reg_mem_prect', 'long_time_user'],\n",
       "      dtype='object')"
      ]
     },
     "execution_count": 3,
     "metadata": {},
     "output_type": "execute_result"
    }
   ],
   "source": [
    "MEMBERS.columns"
   ]
  },
  {
   "cell_type": "code",
   "execution_count": 4,
   "metadata": {},
   "outputs": [
    {
     "data": {
      "text/plain": [
       "Index(['msno', 'payment_plan_days', 'plan_list_price',\n",
       "       'actual_amount_paid_last_month', 'is_cancel_last_month',\n",
       "       'discount_last_month', 'is_auto_renew', 'is_cancel_sum',\n",
       "       'actual_amount_paid_sum', 'membership_duration', 'pay_id:is_auto_renew',\n",
       "       'is_auto_renew:is_cancel', 'is_auto_renew:not_cancel',\n",
       "       'not_auto_renew:is_cancel', 'payment_increase', 'payment_decrease',\n",
       "       'payment_tozero', 'new_payer', 'discount_sum', 'paymentId_1.0',\n",
       "       'paymentId_4.0', 'paymentId_5.0', 'paymentId_13.0', 'paymentId_15.0',\n",
       "       'paymentId_22.0', 'amt_per_day'],\n",
       "      dtype='object')"
      ]
     },
     "execution_count": 4,
     "metadata": {},
     "output_type": "execute_result"
    }
   ],
   "source": [
    "TRANSACTION.columns"
   ]
  },
  {
   "cell_type": "code",
   "execution_count": 5,
   "metadata": {},
   "outputs": [
    {
     "data": {
      "text/plain": [
       "Index(['msno', 'num_100_1612', 'num_unq_1612', 'total_secs_1612',\n",
       "       'mean_num_1612', 'tot_num_1612', 'tot_unq_ratio_1612',\n",
       "       'mean_unq_ratio_1612', 'mean_secs_1612', 'num_100_1701', 'num_unq_1701',\n",
       "       'total_secs_1701', 'mean_num_1701', 'tot_num_1701',\n",
       "       'tot_unq_ratio_1701', 'mean_unq_ratio_1701', 'mean_secs_1701',\n",
       "       'num_100_1702', 'num_unq_1702', 'total_secs_1702', 'mean_num_1702',\n",
       "       'tot_num_1702', 'tot_unq_ratio_1702', 'mean_unq_ratio_1702',\n",
       "       'mean_secs_1702', 'num_100_3M', 'num_unq_3M', 'total_secs_3M',\n",
       "       'mean_num_3M', 'tot_num_3M', 'tot_unq_ratio_3M', 'mean_unq_ratio_3M',\n",
       "       'mean_secs_3M'],\n",
       "      dtype='object')"
      ]
     },
     "execution_count": 5,
     "metadata": {},
     "output_type": "execute_result"
    }
   ],
   "source": [
    "USER_LOGS_SUM.columns"
   ]
  },
  {
   "cell_type": "code",
   "execution_count": 6,
   "metadata": {},
   "outputs": [
    {
     "data": {
      "text/plain": [
       "Index(['msno', 'status'], dtype='object')"
      ]
     },
     "execution_count": 6,
     "metadata": {},
     "output_type": "execute_result"
    }
   ],
   "source": [
    "STATUS.columns"
   ]
  },
  {
   "cell_type": "code",
   "execution_count": 7,
   "metadata": {},
   "outputs": [],
   "source": [
    "training = pd.merge(left=STATUS, right=MEMBERS, on=\"msno\")"
   ]
  },
  {
   "cell_type": "code",
   "execution_count": 8,
   "metadata": {},
   "outputs": [],
   "source": [
    "training = pd.merge(left=training, right=TRANSACTION, on=\"msno\")"
   ]
  },
  {
   "cell_type": "code",
   "execution_count": 9,
   "metadata": {},
   "outputs": [],
   "source": [
    "training = pd.merge(left=training, right=USER_LOGS_SUM, on=\"msno\")"
   ]
  },
  {
   "cell_type": "code",
   "execution_count": 10,
   "metadata": {},
   "outputs": [
    {
     "name": "stdout",
     "output_type": "stream",
     "text": [
      "<class 'pandas.core.frame.DataFrame'>\n",
      "Int64Index: 5848 entries, 0 to 5847\n",
      "Data columns (total 79 columns):\n",
      "msno                             5848 non-null object\n",
      "status                           5848 non-null int64\n",
      "bd                               5848 non-null float64\n",
      "gender                           5848 non-null object\n",
      "info_complete                    5848 non-null bool\n",
      "reg_Year                         5848 non-null int64\n",
      "registration_duration            5848 non-null float64\n",
      "city_1.0                         5848 non-null int64\n",
      "city_4.0                         5848 non-null int64\n",
      "city_5.0                         5848 non-null int64\n",
      "city_13.0                        5848 non-null int64\n",
      "city_15.0                        5848 non-null int64\n",
      "city_22.0                        5848 non-null int64\n",
      "regVia_3.0                       5848 non-null int64\n",
      "regVia_4.0                       5848 non-null int64\n",
      "regVia_7.0                       5848 non-null int64\n",
      "regVia_9.0                       5848 non-null int64\n",
      "actual_amount_paid               5848 non-null int64\n",
      "membership_duration_x            5848 non-null float64\n",
      "reg_mem_duration                 5848 non-null float64\n",
      "reg_mem_prect                    5848 non-null float64\n",
      "long_time_user                   5848 non-null int64\n",
      "payment_plan_days                5848 non-null int64\n",
      "plan_list_price                  5848 non-null int64\n",
      "actual_amount_paid_last_month    5848 non-null int64\n",
      "is_cancel_last_month             5848 non-null int64\n",
      "discount_last_month              5848 non-null int64\n",
      "is_auto_renew                    5848 non-null int64\n",
      "is_cancel_sum                    5848 non-null int64\n",
      "actual_amount_paid_sum           5848 non-null int64\n",
      "membership_duration_y            5848 non-null float64\n",
      "pay_id:is_auto_renew             5848 non-null int64\n",
      "is_auto_renew:is_cancel          5848 non-null int64\n",
      "is_auto_renew:not_cancel         5848 non-null int64\n",
      "not_auto_renew:is_cancel         5848 non-null int64\n",
      "payment_increase                 5848 non-null int64\n",
      "payment_decrease                 5848 non-null int64\n",
      "payment_tozero                   5848 non-null int64\n",
      "new_payer                        5848 non-null int64\n",
      "discount_sum                     5848 non-null int64\n",
      "paymentId_1.0                    5848 non-null int64\n",
      "paymentId_4.0                    5848 non-null int64\n",
      "paymentId_5.0                    5848 non-null int64\n",
      "paymentId_13.0                   5848 non-null int64\n",
      "paymentId_15.0                   5848 non-null int64\n",
      "paymentId_22.0                   5848 non-null int64\n",
      "amt_per_day                      5848 non-null float64\n",
      "num_100_1612                     5432 non-null float64\n",
      "num_unq_1612                     5432 non-null float64\n",
      "total_secs_1612                  5432 non-null float64\n",
      "mean_num_1612                    5432 non-null float64\n",
      "tot_num_1612                     5432 non-null float64\n",
      "tot_unq_ratio_1612               5432 non-null float64\n",
      "mean_unq_ratio_1612              5432 non-null float64\n",
      "mean_secs_1612                   5432 non-null float64\n",
      "num_100_1701                     5506 non-null float64\n",
      "num_unq_1701                     5506 non-null float64\n",
      "total_secs_1701                  5506 non-null float64\n",
      "mean_num_1701                    5506 non-null float64\n",
      "tot_num_1701                     5506 non-null float64\n",
      "tot_unq_ratio_1701               5506 non-null float64\n",
      "mean_unq_ratio_1701              5506 non-null float64\n",
      "mean_secs_1701                   5506 non-null float64\n",
      "num_100_1702                     2860 non-null float64\n",
      "num_unq_1702                     2860 non-null float64\n",
      "total_secs_1702                  2860 non-null float64\n",
      "mean_num_1702                    2860 non-null float64\n",
      "tot_num_1702                     2860 non-null float64\n",
      "tot_unq_ratio_1702               2860 non-null float64\n",
      "mean_unq_ratio_1702              2860 non-null float64\n",
      "mean_secs_1702                   2860 non-null float64\n",
      "num_100_3M                       5848 non-null float64\n",
      "num_unq_3M                       5848 non-null float64\n",
      "total_secs_3M                    5848 non-null float64\n",
      "mean_num_3M                      5848 non-null float64\n",
      "tot_num_3M                       5848 non-null float64\n",
      "tot_unq_ratio_3M                 5848 non-null float64\n",
      "mean_unq_ratio_3M                5848 non-null float64\n",
      "mean_secs_3M                     5848 non-null float64\n",
      "dtypes: bool(1), float64(39), int64(37), object(2)\n",
      "memory usage: 3.5+ MB\n"
     ]
    }
   ],
   "source": [
    "training.info()"
   ]
  },
  {
   "cell_type": "code",
   "execution_count": 11,
   "metadata": {},
   "outputs": [],
   "source": [
    "training = training.fillna(value=0)"
   ]
  },
  {
   "cell_type": "code",
   "execution_count": 12,
   "metadata": {},
   "outputs": [],
   "source": [
    "training.to_csv(\"../data/processed/training.csv\", index=False)"
   ]
  }
 ],
 "metadata": {
  "kernelspec": {
   "display_name": "Python 3",
   "language": "python",
   "name": "python3"
  },
  "language_info": {
   "codemirror_mode": {
    "name": "ipython",
    "version": 3
   },
   "file_extension": ".py",
   "mimetype": "text/x-python",
   "name": "python",
   "nbconvert_exporter": "python",
   "pygments_lexer": "ipython3",
   "version": "3.6.4"
  }
 },
 "nbformat": 4,
 "nbformat_minor": 2
}
